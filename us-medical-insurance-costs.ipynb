{
 "cells": [
  {
   "cell_type": "markdown",
   "metadata": {},
   "source": [
    "# U.S. Medical Insurance Costs"
   ]
  },
  {
   "cell_type": "code",
   "execution_count": 273,
   "metadata": {
    "tags": []
   },
   "outputs": [],
   "source": [
    "import csv\n",
    "\n",
    "\n",
    "\n",
    "#initializing variable lists to populate from csv file\n",
    "age = []\n",
    "sex = []\n",
    "bmi = []\n",
    "children = []\n",
    "smoker = []\n",
    "region = []\n",
    "charges = []\n",
    "patientList = [] # List of Patient Class Objects \n",
    "\n",
    "\n",
    "#reading data file and setting up veriables for analysis\n",
    "# # helper function to load csv data\n",
    "# def load_list_data(lst, csv_file, column_name):\n",
    "#     # open csv file\n",
    "#     with open(csv_file) as csv_data:\n",
    "#         # read the data from the csv file\n",
    "#         csv_dict = csv.DictReader(csv_data)\n",
    "#         # loop through the data in each row of the csv \n",
    "#         for row in csv_dict:\n",
    "#             # add the data from each row to a list\n",
    "#             lst.append(row[column_name])\n",
    "#         # return the list\n",
    "#         return lst\n",
    " \n",
    "\n",
    "\n",
    "\n",
    "#     #populated variables with data from CSV        \n",
    "# load_list_data(age, 'insurance.csv', 'age')\n",
    "# load_list_data(sex, 'insurance.csv', 'sex')\n",
    "# load_list_data(bmi, 'insurance.csv', 'bmi')\n",
    "# load_list_data(children, 'insurance.csv', 'children')\n",
    "# load_list_data(smoker, 'insurance.csv', 'smoker')\n",
    "# load_list_data(region, 'insurance.csv', 'region')\n",
    "# load_list_data(charges, 'insurance.csv', 'charges')\n",
    "\n",
    "\n",
    "#open csv file\n",
    "with open('insurance.csv', 'r') as csv_data:\n",
    "    #read the data in csv file\n",
    "    csv_dict = csv.DictReader(csv_data)\n",
    "    for line in csv_dict:\n",
    "        \n",
    "        age.append(line['age'])\n",
    "        sex.append(line['sex'])\n",
    "        bmi.append(line['bmi'])\n",
    "        children.append(line['children'])\n",
    "        smoker.append(line['smoker'])\n",
    "        region.append(line['region'])\n",
    "        charges.append(line['charges'])\n",
    "        patientList.append(line)\n",
    "        \n"
   ]
  },
  {
   "cell_type": "markdown",
   "metadata": {
    "jp-MarkdownHeadingCollapsed": true,
    "tags": []
   },
   "source": [
    "### Questions for Analysis:\n",
    "1. Average age of the patients in the dataset\n",
    "2. Average age of patients who have at least 1 child\n",
    "3. Analyze correlation between region and cost\n",
    "4. Find the average cost for someone who has at least 1 child\n",
    "\n"
   ]
  },
  {
   "cell_type": "code",
   "execution_count": 379,
   "metadata": {},
   "outputs": [],
   "source": [
    "# class Patient\n",
    "#     def __init__(age, sex, bmi, ...)\n",
    "#         self.age = age\n",
    "#         self.sex = sex\n",
    "#         self.bmi = bmi\n",
    "#         self.children = children\n",
    "#         self.smoker = smoker\n",
    "#         self.region = region\n",
    "#         self.charges = charges\n",
    "    \n",
    "\n",
    "class Patient:\n",
    "    #initialize variables in Patient class\n",
    "    def __init__(self, age, sex, bmi, children, smoker, region, charges, patientList):\n",
    "        #patients = buildPatientList(csvData)\n",
    "        self.age = age\n",
    "        self.sex = sex\n",
    "        self.bmi = bmi\n",
    "        self.children = children\n",
    "        self.smoker = smoker\n",
    "        self.region = region\n",
    "        self.charges = charges\n",
    "        self.patientList = patientList\n",
    "        \n",
    "    def findAverageAge(self):\n",
    "        temp = 0 # rollingAgeTotal\n",
    "        for i in self.age:\n",
    "            temp += int(i)\n",
    "            average = temp / len(self.age)\n",
    "        return(\"The average age of the patients is \" + str(round(average, 2)))\n",
    "\n",
    "    \n",
    "    def numPerSex(self):\n",
    "        male = 0\n",
    "        female = 0\n",
    "        \n",
    "        #looping through list of sexes\n",
    "        for patient in self.sex:\n",
    "            #if male, add 1\n",
    "            if patient == 'male':\n",
    "                male += 1\n",
    "            #if female, add 1\n",
    "            elif patient == \"female\":\n",
    "                female +=1 \n",
    "                \n",
    "        print(\"Number of Females: \" + str(male))\n",
    "        print(\"Number of Males: \" + str(female))\n",
    "    \n",
    "    \n",
    "    def childCount(self):\n",
    "        #initialize number of children\n",
    "        children = 0\n",
    "        \n",
    "        #loop through list of num of children\n",
    "        for child in self.children:\n",
    "            #if child is greater than 0, add 1 to child count\n",
    "            if int(child) > 0:\n",
    "                children += 1\n",
    "                \n",
    "        return(\"There are \" + str(children) + \" pateints who have at least 1 child.\")\n",
    "    \n",
    "    \n",
    "    def averageCost(self):\n",
    "        #initialie cost\n",
    "        cost = 0\n",
    "        \n",
    "        for charge in self.charges:\n",
    "            cost += float(charge)\n",
    "            average = cost / len(self.charges)\n",
    "        print(cost)\n",
    "        return(\"The average cost for patients at the clinic is $\" + str(round(average, 2)))\n",
    "    \n",
    "    \n",
    "    def averageOneChild(self, numChild):\n",
    "        #creating rolling total of cost while looping through\n",
    "        rollingTotal = 0\n",
    "        numPatients = 0\n",
    "        \n",
    "        #loop through self.charges\n",
    "        for patient in self.patientList:\n",
    "            #if self.children == 1, add cost to rollingTotal\n",
    "            if patient['children'] == numChild:\n",
    "                rollingTotal += float(patient['charges'])\n",
    "                numPatients += 1\n",
    "            else:\n",
    "                rollingTotal += 0\n",
    "                 \n",
    "                    \n",
    "        return(\"The average charges for patients with \" +  str(numChild)+ \" child is $\" + str(round(rollingTotal/numPatients, 2)))\n",
    "                    \n",
    "        \n",
    "        \n",
    "            "
   ]
  },
  {
   "cell_type": "markdown",
   "metadata": {},
   "source": [
    "#### Initialize Patients:"
   ]
  },
  {
   "cell_type": "code",
   "execution_count": 381,
   "metadata": {},
   "outputs": [],
   "source": [
    "#Creating Patients:\n",
    "patients = Patient(age, sex, bmi, children, smoker, region, charges, patientList)\n",
    "\n",
    "# #for line in csv_dict\n",
    "#  patients.appends(Patient(line['age', \n",
    "\n"
   ]
  },
  {
   "cell_type": "markdown",
   "metadata": {
    "jp-MarkdownHeadingCollapsed": true,
    "tags": []
   },
   "source": [
    "### Lets Analyze some Data!"
   ]
  },
  {
   "cell_type": "markdown",
   "metadata": {},
   "source": [
    "1.  What is the average age of the patients?"
   ]
  },
  {
   "cell_type": "code",
   "execution_count": 233,
   "metadata": {},
   "outputs": [
    {
     "data": {
      "text/plain": [
       "'The average age of the patients is 39.21'"
      ]
     },
     "execution_count": 233,
     "metadata": {},
     "output_type": "execute_result"
    }
   ],
   "source": [
    "patients.findAverageAge()"
   ]
  },
  {
   "cell_type": "markdown",
   "metadata": {},
   "source": [
    "2. How many males and females are patients at the clinic?"
   ]
  },
  {
   "cell_type": "markdown",
   "metadata": {},
   "source": [
    "patients.numPerSex()"
   ]
  },
  {
   "cell_type": "markdown",
   "metadata": {},
   "source": [
    "3. How many patients have at least 1 child"
   ]
  },
  {
   "cell_type": "code",
   "execution_count": 172,
   "metadata": {},
   "outputs": [
    {
     "data": {
      "text/plain": [
       "'There are 764 pateints who have at least 1 child.'"
      ]
     },
     "execution_count": 172,
     "metadata": {},
     "output_type": "execute_result"
    }
   ],
   "source": [
    "patients.childCount()"
   ]
  },
  {
   "cell_type": "markdown",
   "metadata": {},
   "source": [
    "4.  What is the average cost of patients at the clinic"
   ]
  },
  {
   "cell_type": "code",
   "execution_count": 174,
   "metadata": {},
   "outputs": [
    {
     "name": "stdout",
     "output_type": "stream",
     "text": [
      "17755824.990759\n"
     ]
    },
    {
     "data": {
      "text/plain": [
       "'The average cost for patients at the clinic is $13270.42'"
      ]
     },
     "execution_count": 174,
     "metadata": {},
     "output_type": "execute_result"
    }
   ],
   "source": [
    "patients.averageCost()"
   ]
  },
  {
   "cell_type": "markdown",
   "metadata": {},
   "source": [
    "### Testing"
   ]
  },
  {
   "cell_type": "code",
   "execution_count": 390,
   "metadata": {},
   "outputs": [
    {
     "data": {
      "text/plain": [
       "'The average charges for patients with 1 child is $12731.17'"
      ]
     },
     "execution_count": 390,
     "metadata": {},
     "output_type": "execute_result"
    }
   ],
   "source": [
    "patients.averageOneChild('1')\n"
   ]
  },
  {
   "cell_type": "code",
   "execution_count": 392,
   "metadata": {},
   "outputs": [
    {
     "data": {
      "text/plain": [
       "'The average charges for patients with 2 child is $15073.56'"
      ]
     },
     "execution_count": 392,
     "metadata": {},
     "output_type": "execute_result"
    }
   ],
   "source": [
    "patients.averageOneChild('2')\n"
   ]
  },
  {
   "cell_type": "code",
   "execution_count": 394,
   "metadata": {},
   "outputs": [
    {
     "data": {
      "text/plain": [
       "'The average charges for patients with 3 child is $15355.32'"
      ]
     },
     "execution_count": 394,
     "metadata": {},
     "output_type": "execute_result"
    }
   ],
   "source": [
    "patients.averageOneChild('3')\n"
   ]
  },
  {
   "cell_type": "code",
   "execution_count": 396,
   "metadata": {},
   "outputs": [
    {
     "data": {
      "text/plain": [
       "'The average charges for patients with 4 child is $13850.66'"
      ]
     },
     "execution_count": 396,
     "metadata": {},
     "output_type": "execute_result"
    }
   ],
   "source": [
    "patients.averageOneChild('4')"
   ]
  },
  {
   "cell_type": "code",
   "execution_count": 398,
   "metadata": {},
   "outputs": [
    {
     "data": {
      "text/plain": [
       "'The average charges for patients with 5 child is $8786.04'"
      ]
     },
     "execution_count": 398,
     "metadata": {},
     "output_type": "execute_result"
    }
   ],
   "source": [
    "patients.averageOneChild('5')"
   ]
  },
  {
   "cell_type": "code",
   "execution_count": null,
   "metadata": {},
   "outputs": [],
   "source": []
  }
 ],
 "metadata": {
  "kernelspec": {
   "display_name": "anaconda-2022.05-py39",
   "language": "python",
   "name": "conda-env-anaconda-2022.05-py39-py"
  },
  "language_info": {
   "codemirror_mode": {
    "name": "ipython",
    "version": 3
   },
   "file_extension": ".py",
   "mimetype": "text/x-python",
   "name": "python",
   "nbconvert_exporter": "python",
   "pygments_lexer": "ipython3",
   "version": "3.9.12"
  }
 },
 "nbformat": 4,
 "nbformat_minor": 4
}
